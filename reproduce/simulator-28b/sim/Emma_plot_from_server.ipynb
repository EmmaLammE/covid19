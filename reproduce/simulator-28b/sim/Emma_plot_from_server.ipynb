{
 "cells": [
  {
   "cell_type": "markdown",
   "metadata": {},
   "source": [
    "# Plot from the server"
   ]
  },
  {
   "cell_type": "code",
   "execution_count": 6,
   "metadata": {},
   "outputs": [
    {
     "name": "stdout",
     "output_type": "stream",
     "text": [
      "The autoreload extension is already loaded. To reload it, use:\n",
      "  %reload_ext autoreload\n"
     ]
    }
   ],
   "source": [
    "%load_ext autoreload\n",
    "%autoreload 2\n",
    "\n",
    "import sys\n",
    "if '..' not in sys.path:\n",
    "    sys.path.append('..')\n",
    "\n",
    "\n",
    "import pandas as pd\n",
    "import numpy as np\n",
    "import networkx as nx\n",
    "import copy\n",
    "import scipy as sp\n",
    "import math\n",
    "import seaborn\n",
    "import pickle\n",
    "import warnings\n",
    "import matplotlib\n",
    "import re\n",
    "import multiprocessing\n",
    "\n",
    "from lib.mobilitysim import MobilitySimulator\n",
    "from lib.dynamics import DiseaseModel\n",
    "from lib.inference import * \n",
    "from bayes_opt import BayesianOptimization\n",
    "from lib.parallel import *\n",
    "from lib.distributions import CovidDistributions\n",
    "from lib.plot import Plotter\n",
    "from lib.data import collect_data_from_df\n",
    "from lib.measures import (\n",
    "    MeasureList, \n",
    "    BetaMultiplierMeasure, \n",
    "    BetaMultiplierMeasureByType,\n",
    "    SocialDistancingForAllMeasure, \n",
    "    SocialDistancingForKGroups,\n",
    "    SocialDistancingByAgeMeasure,\n",
    "    SocialDistancingForPositiveMeasure, \n",
    "    ComplianceForAllMeasure,\n",
    "    Interval)\n",
    "\n",
    "from lib.mobilitysim import MobilitySimulator\n",
    "from lib.town_data import generate_population, generate_sites, compute_distances\n",
    "from lib.town_maps import MapIllustrator"
   ]
  },
  {
   "cell_type": "code",
   "execution_count": 7,
   "metadata": {},
   "outputs": [],
   "source": [
    "def save_summary(summary, filename):\n",
    "    with open('summaries/' + filename, 'wb') as fp:\n",
    "        pickle.dump(summary, fp)\n",
    "    \n",
    "def load_summary(filename):\n",
    "    with open('summaries/' + filename, 'rb') as fp:\n",
    "        summary = pickle.load(fp)\n",
    "    return summary\n",
    "\n",
    "\n",
    "summaries_SD_6 = load_summary('summaries_SD_6_extra.pk')"
   ]
  },
  {
   "cell_type": "code",
   "execution_count": 10,
   "metadata": {},
   "outputs": [
    {
     "ename": "KeyError",
     "evalue": "('basic', 'advanced')",
     "output_type": "error",
     "traceback": [
      "\u001b[1;31m---------------------------------------------------------------------------\u001b[0m",
      "\u001b[1;31mKeyError\u001b[0m                                  Traceback (most recent call last)",
      "\u001b[1;32m<ipython-input-10-f4ecea232589>\u001b[0m in \u001b[0;36m<module>\u001b[1;34m\u001b[0m\n\u001b[0;32m      2\u001b[0m \u001b[0mplotter\u001b[0m \u001b[1;33m=\u001b[0m \u001b[0mPlotter\u001b[0m\u001b[1;33m(\u001b[0m\u001b[1;33m)\u001b[0m\u001b[1;33m\u001b[0m\u001b[1;33m\u001b[0m\u001b[0m\n\u001b[0;32m      3\u001b[0m \u001b[0mtitle\u001b[0m \u001b[1;33m=\u001b[0m \u001b[1;33m[\u001b[0m\u001b[1;34m'0 all'\u001b[0m\u001b[1;33m,\u001b[0m\u001b[1;34m'0.25 all'\u001b[0m\u001b[1;33m,\u001b[0m\u001b[1;34m'0.75 all'\u001b[0m\u001b[1;33m,\u001b[0m\u001b[1;34m'1 all'\u001b[0m\u001b[1;33m]\u001b[0m\u001b[1;33m\u001b[0m\u001b[1;33m\u001b[0m\u001b[0m\n\u001b[1;32m----> 4\u001b[1;33m \u001b[0msummaries_\u001b[0m \u001b[1;33m=\u001b[0m \u001b[0msummaries_SD_6\u001b[0m\u001b[1;33m[\u001b[0m\u001b[1;34m'basic'\u001b[0m\u001b[1;33m,\u001b[0m\u001b[1;34m'advanced'\u001b[0m\u001b[1;33m]\u001b[0m\u001b[1;33m\u001b[0m\u001b[1;33m\u001b[0m\u001b[0m\n\u001b[0m\u001b[0;32m      5\u001b[0m \u001b[0mc\u001b[0m \u001b[1;33m=\u001b[0m \u001b[1;36m0\u001b[0m\u001b[1;33m\u001b[0m\u001b[1;33m\u001b[0m\u001b[0m\n\u001b[0;32m      6\u001b[0m \u001b[0mrunstr\u001b[0m \u001b[1;33m=\u001b[0m \u001b[1;34mf'run{c}_'\u001b[0m\u001b[1;33m\u001b[0m\u001b[1;33m\u001b[0m\u001b[0m\n",
      "\u001b[1;31mKeyError\u001b[0m: ('basic', 'advanced')"
     ]
    }
   ],
   "source": [
    "FIGSIZE = (8, 4)\n",
    "plotter = Plotter()\n",
    "title = ['0 all','0.25 all','0.75 all','1 all']\n",
    "summaries_ = summaries_SD_6['basic']\n",
    "c = 0\n",
    "runstr = f'run{c}_'\n",
    "\n",
    "plotter.compare_total_infections(\n",
    "    summaries_, \n",
    "    titles=title, \n",
    "    figtitle=r'Total Infections with Contact Tracing Case Isolation for All',\n",
    "    filename=runstr + 'ST_all', \n",
    "    figsize=FIGSIZE, acc=500, \n",
    "    ymax=50, errorevery=14)"
   ]
  },
  {
   "cell_type": "code",
   "execution_count": null,
   "metadata": {},
   "outputs": [],
   "source": []
  }
 ],
 "metadata": {
  "kernelspec": {
   "display_name": "Python 3",
   "language": "python",
   "name": "python3"
  },
  "language_info": {
   "codemirror_mode": {
    "name": "ipython",
    "version": 3
   },
   "file_extension": ".py",
   "mimetype": "text/x-python",
   "name": "python",
   "nbconvert_exporter": "python",
   "pygments_lexer": "ipython3",
   "version": "3.8.3"
  }
 },
 "nbformat": 4,
 "nbformat_minor": 4
}
